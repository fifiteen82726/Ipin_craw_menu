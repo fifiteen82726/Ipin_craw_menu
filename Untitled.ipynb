{
 "cells": [
  {
   "cell_type": "code",
   "execution_count": 38,
   "metadata": {
    "collapsed": false
   },
   "outputs": [
    {
     "name": "stdout",
     "output_type": "stream",
     "text": [
      "1.黃金海岸活蝦之家餐廳\n",
      "/shop/28434-黃金海岸活蝦之家餐廳\n"
     ]
    }
   ],
   "source": [
    "import requests\n",
    "from bs4 import BeautifulSoup\n",
    "\n",
    "\n",
    "res = requests.get('http://www.ipeen.com.tw/taiwan/channel/F')\n",
    "soup = BeautifulSoup(res.text)\n",
    "restaurant = soup.select('.detail li a')[0].get('href')\n",
    "food_kind_url = 'http://www.ipeen.com.tw'+restaurant\n",
    "\n",
    "res = requests.get(food_kind_url)\n",
    "soup = BeautifulSoup(res.text)\n",
    "# print food_kind_url\n",
    "print soup.select('.serShop h3')[1].text.strip().replace(\"\\t\", \"\").replace(\"\\n\",\"\").replace(\" \",\"\")\n",
    "print soup.select('.serShop h3 a')[2].get('href')\n"
   ]
  },
  {
   "cell_type": "code",
   "execution_count": null,
   "metadata": {
    "collapsed": true
   },
   "outputs": [],
   "source": []
  },
  {
   "cell_type": "code",
   "execution_count": null,
   "metadata": {
    "collapsed": true
   },
   "outputs": [],
   "source": []
  }
 ],
 "metadata": {
  "kernelspec": {
   "display_name": "Python 2",
   "language": "python",
   "name": "python2"
  },
  "language_info": {
   "codemirror_mode": {
    "name": "ipython",
    "version": 2
   },
   "file_extension": ".py",
   "mimetype": "text/x-python",
   "name": "python",
   "nbconvert_exporter": "python",
   "pygments_lexer": "ipython2",
   "version": "2.7.10"
  }
 },
 "nbformat": 4,
 "nbformat_minor": 0
}
